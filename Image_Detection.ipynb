{
 "cells": [
  {
   "cell_type": "code",
   "execution_count": 13,
   "metadata": {
    "collapsed": true,
    "scrolled": true
   },
   "outputs": [],
   "source": [
    "import cv2\n",
    "import numpy as np\n",
    "import face_recognition"
   ]
  },
  {
   "cell_type": "code",
   "execution_count": 136,
   "metadata": {
    "collapsed": true
   },
   "outputs": [],
   "source": [
    "img_bgr1 = face_recognition.load_image_file('/home/mevrick/imgd1.jpg',mode='RGB')\n",
    "img_bgr2 = face_recognition.load_image_file('/home/mevrick/imgd2.jpg',mode='RGB')\n",
    "img_bgr3 = face_recognition.load_image_file('/home/mevrick/imgd3.jpg',mode='RGB')\n",
    "img_bgr4 = face_recognition.load_image_file('/home/mevrick/imgd4.jpg',mode='RGB')\n",
    "img_bgr5 = face_recognition.load_image_file('/home/mevrick/imgd5.jpg',mode='RGB')\n",
    "img_bgr6 = face_recognition.load_image_file('/home/mevrick/imgd6.jpg',mode='RGB')\n",
    "img_bgr7 = face_recognition.load_image_file('/home/mevrick/imgd7.jpg',mode='RGB')\n",
    "img_bgr8 = face_recognition.load_image_file('/home/mevrick/imgd8.jpg',mode='RGB')\n",
    "face_locations1 = face_recognition.face_locations(img_bgr1)\n",
    "face_locations2 = face_recognition.face_locations(img_bgr2)\n",
    "face_locations3 = face_recognition.face_locations(img_bgr3)\n",
    "face_locations4 = face_recognition.face_locations(img_bgr4)\n",
    "face_locations5 = face_recognition.face_locations(img_bgr5)\n",
    "face_locations6 = face_recognition.face_locations(img_bgr6)\n",
    "face_locations7 = face_recognition.face_locations(img_bgr7)\n",
    "face_locations8 = face_recognition.face_locations(img_bgr8)\n"
   ]
  },
  {
   "cell_type": "code",
   "execution_count": 137,
   "metadata": {
    "collapsed": true
   },
   "outputs": [],
   "source": [
    "face_landmarks_list1 = face_recognition.face_landmarks(img_bgr1,face_locations1)\n",
    "face_landmarks_list2 = face_recognition.face_landmarks(img_bgr2,face_locations2)\n",
    "face_landmarks_list3 = face_recognition.face_landmarks(img_bgr3,face_locations3)\n",
    "face_landmarks_list4 = face_recognition.face_landmarks(img_bgr4,face_locations4)\n",
    "face_landmarks_list5 = face_recognition.face_landmarks(img_bgr5,face_locations5)\n",
    "face_landmarks_list6 = face_recognition.face_landmarks(img_bgr6,face_locations6)\n",
    "face_landmarks_list7 = face_recognition.face_landmarks(img_bgr7,face_locations7)\n",
    "face_landmarks_list8 = face_recognition.face_landmarks(img_bgr8,face_locations8)"
   ]
  },
  {
   "cell_type": "code",
   "execution_count": 193,
   "metadata": {
    "collapsed": true
   },
   "outputs": [],
   "source": [
    "known_image = face_recognition.load_image_file('/home/mevrick/imgd2.jpg')\n",
    "unknown_image = face_recognition.load_image_file('/home/mevrick/imgd8.jpg')\n",
    "\n",
    "known_encoding = face_recognition.face_encodings(known_image)[0]\n",
    "unknown_encoding = face_recognition.face_encodings(unknown_image)[0]\n",
    "results = face_recognition.compare_faces([known_encoding], unknown_encoding , tolerance =0.6)"
   ]
  },
  {
   "cell_type": "code",
   "execution_count": 194,
   "metadata": {},
   "outputs": [
    {
     "name": "stdout",
     "output_type": "stream",
     "text": [
      "[ 0.55947687]\n"
     ]
    }
   ],
   "source": [
    "face_dist = face_recognition.api.face_distance([known_encoding] ,unknown_encoding)\n",
    "print(face_dist)"
   ]
  },
  {
   "cell_type": "code",
   "execution_count": 195,
   "metadata": {},
   "outputs": [
    {
     "name": "stdout",
     "output_type": "stream",
     "text": [
      "[True]\n"
     ]
    }
   ],
   "source": [
    "print(results)"
   ]
  },
  {
   "cell_type": "code",
   "execution_count": 51,
   "metadata": {},
   "outputs": [
    {
     "name": "stdout",
     "output_type": "stream",
     "text": [
      "It's a picture of me!\n"
     ]
    }
   ],
   "source": [
    "if results[0] == True:\n",
    "    print(\"It's a picture of known person!\")\n",
    "else:\n",
    "    print(\"It's not a picture of known person!\")"
   ]
  },
  {
   "cell_type": "code",
   "execution_count": null,
   "metadata": {
    "collapsed": true
   },
   "outputs": [],
   "source": []
  }
 ],
 "metadata": {
  "kernelspec": {
   "display_name": "Python 3",
   "language": "python",
   "name": "python3"
  },
  "language_info": {
   "codemirror_mode": {
    "name": "ipython",
    "version": 3
   },
   "file_extension": ".py",
   "mimetype": "text/x-python",
   "name": "python",
   "nbconvert_exporter": "python",
   "pygments_lexer": "ipython3",
   "version": "3.6.6"
  }
 },
 "nbformat": 4,
 "nbformat_minor": 2
}
